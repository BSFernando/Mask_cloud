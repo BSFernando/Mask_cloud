{
  "nbformat": 4,
  "nbformat_minor": 0,
  "metadata": {
    "colab": {
      "name": "Cópia de ndvi_hot",
      "provenance": [],
      "collapsed_sections": [],
      "toc_visible": true,
      "authorship_tag": "ABX9TyOxBNZ/CKOM/+C9Hrm3fh3F"
    },
    "kernelspec": {
      "display_name": "Python 3",
      "name": "python3"
    }
  },
  "cells": [
    {
      "cell_type": "markdown",
      "metadata": {
        "id": "U0q9iSY5-TpX"
      },
      "source": [
        "# Nova seção"
      ]
    },
    {
      "cell_type": "code",
      "metadata": {
        "id": "tbIdI1Niakaz"
      },
      "source": [
        "import numpy as np\r\n",
        "import os\r\n",
        "from PIL import Image\r\n",
        "import pickle \r\n",
        "from sklearn.metrics import accuracy_score, classification_report, confusion_matrix\r\n",
        "from sklearn.linear_model import LogisticRegression\r\n",
        "from sklearn.model_selection import train_test_split\r\n",
        "from google.colab import drive\r\n",
        "\r\n",
        "drive.mount('/content/drive')\r\n",
        "np.seterr(divide='ignore', invalid='ignore')"
      ],
      "execution_count": null,
      "outputs": []
    },
    {
      "cell_type": "code",
      "metadata": {
        "colab": {
          "base_uri": "https://localhost:8080/"
        },
        "id": "zDCX5xhgaUqM",
        "outputId": "1901f6d4-3a90-42ae-e001-e82d40399f77"
      },
      "source": [
        "def normalize(array):\r\n",
        "    array_min, array_max = array.min(), array.max()\r\n",
        "    return ((array - array_min)/(array_max - array_min))\r\n",
        "\r\n",
        "def __img(caminho):\r\n",
        "    img = Image.open(caminho)\r\n",
        "    img1 = np.array(img)\r\n",
        "    img1 = normalize(img1)\r\n",
        "    return img1\r\n",
        "\r\n",
        "def ndvi(banda4, banda5, limit1, limit2):\r\n",
        "    b4, b5 = __img(banda4)[1500:6500,1500:6500], __img(banda5)[1500:6500,1500:6500]\r\n",
        "    resposta = (b5-b4)/(b5+b4)\r\n",
        "    resposta[(resposta < limit1)&(resposta > limit2)] = 1000\r\n",
        "    return resposta\r\n",
        "\r\n",
        "def hot(banda2, banda4, limit):\r\n",
        "    b2, b4 = __img(banda2)[1500:6500,1500:6500], __img(banda4)[1500:6500,1500:6500]\r\n",
        "    resposta = b2 - (b4/2) - 0.15\r\n",
        "    resposta[(resposta > limit)] = 1000\r\n",
        "    return resposta\r\n",
        "\r\n",
        "def create_rgb(r,g,b):\r\n",
        "    rgb = np.dstack((__img(r)[1500:6500,1500:6500], __img(g)[1500:6500,1500:6500], __img(b)[1500:6500,1500:6500]))\r\n",
        "    return rgb\r\n",
        "\r\n",
        "metods = ['ndvi', 'hot']\r\n",
        "\r\n",
        "tif = ['/tif_4/LC08_L1TP_220079_20190621_20190704_01_T1_B%s.tif',\r\n",
        "        '/tif_2/LC08_L1TP_220081_20200404_20200410_01_T1_B%s.tif']\r\n",
        "\r\n",
        "tiflimit = [[-0.1095,-0.154],[-0.00745,-0.0254]]\r\n",
        "tiflimithot = [0.098]\r\n",
        "\r\n",
        "path = '/content/drive/MyDrive'\r\n",
        "\r\n",
        "for met in metods:\r\n",
        "    cont = 1\r\n",
        "    for item in tif:\r\n",
        "\r\n",
        "        bandas = [path + item % x for x in ['2','3','4','5']]\r\n",
        "        band2, band3, band4, band5 = bandas[0], bandas[1], bandas[2], bandas[3]\r\n",
        "        rgb = create_rgb(band4, band3, band2)\r\n",
        "\r\n",
        "        if met == 'ndvi':\r\n",
        "          if band2 == '/content/drive/MyDrive/tif_4/LC08_L1TP_220079_20190621_20190704_01_T1_B2.tif':\r\n",
        "            fim = ndvi(band4, band5, tiflimit[0][0],tiflimit[0][1])\r\n",
        "          elif band2 == '/content/drive/MyDrive/tif_2/LC08_L1TP_220081_20200404_20200410_01_T1_B2.tif':\r\n",
        "            fim = ndvi(band4, band5, tiflimit[1][0],tiflimit[1][1])\r\n",
        "        else:\r\n",
        "          fim = hot(band2, band4, tiflimithot[0])\r\n",
        "\r\n",
        "        fim[fim == 1000] = 1\r\n",
        "        fim[fim != 1] = 0\r\n",
        "        rgbX = np.reshape(rgb, (1,(rgb.shape[0]* rgb.shape[1]),3))[0]\r\n",
        "        rgbY = np.reshape(fim, (1,(rgb.shape[0]* rgb.shape[1]),1))[0]\r\n",
        "        \r\n",
        "        if cont == 1:\r\n",
        "            rgbX1 = np.copy(rgbX)\r\n",
        "            rgbY1 = np.copy(rgbY)\r\n",
        "            cont = cont + 1\r\n",
        "        else:\r\n",
        "            rgbX1 = np.ma.concatenate([rgbX1, rgbX])\r\n",
        "            rgbY1 = np.ma.concatenate([rgbY1, rgbY])\r\n",
        "            cont = cont + 1\r\n",
        "\r\n",
        "    x, x_t, y, y_t = train_test_split(rgbX1, rgbY1, test_size = 0.3, random_state=101)\r\n",
        "    y = y.ravel()\r\n",
        "\r\n",
        "    if met == 'ndvi': \r\n",
        "        print('------NDVI MODEL------')\r\n",
        "        logit_model = LogisticRegression(C=0.1, verbose=0, max_iter=1000)\r\n",
        "        logit_model.fit(x, y)\r\n",
        "        y_pred = logit_model.predict(x_t)\r\n",
        "    else:\r\n",
        "        print('------HOT MODEL------')\r\n",
        "        logit_model1 = LogisticRegression(C=0.1, verbose=0, max_iter=1000)\r\n",
        "        logit_model1.fit(x, y)\r\n",
        "        y_pred = logit_model1.predict(x_t)\r\n",
        "\r\n",
        "    print(accuracy_score(y_t, y_pred))\r\n",
        "    print(confusion_matrix(y_t, y_pred))\r\n",
        "    print(classification_report(y_t, y_pred))\r\n",
        "\r\n",
        "    if met == 'ndvi':\r\n",
        "        with open('/content/sample_data/logit_model_ndvi.pkl', 'wb') as file:\r\n",
        "            pickle.dump(logit_model, file)\r\n",
        "    else:\r\n",
        "        with open('/content/sample_data/logit_model_hot.pkl', 'wb') as file:\r\n",
        "            pickle.dump(logit_model1, file)\r\n"
      ],
      "execution_count": 5,
      "outputs": [
        {
          "output_type": "stream",
          "text": [
            "------NDVI MODEL------\n",
            "0.8716338\n",
            "[[10032093   854489]\n",
            " [ 1071004  3042414]]\n",
            "              precision    recall  f1-score   support\n",
            "\n",
            "         0.0       0.90      0.92      0.91  10886582\n",
            "         1.0       0.78      0.74      0.76   4113418\n",
            "\n",
            "    accuracy                           0.87  15000000\n",
            "   macro avg       0.84      0.83      0.84  15000000\n",
            "weighted avg       0.87      0.87      0.87  15000000\n",
            "\n",
            "------HOT MODEL------\n",
            "0.9957556666666667\n",
            "[[10808759    33756]\n",
            " [   29909  4127576]]\n",
            "              precision    recall  f1-score   support\n",
            "\n",
            "         0.0       1.00      1.00      1.00  10842515\n",
            "         1.0       0.99      0.99      0.99   4157485\n",
            "\n",
            "    accuracy                           1.00  15000000\n",
            "   macro avg       0.99      0.99      0.99  15000000\n",
            "weighted avg       1.00      1.00      1.00  15000000\n",
            "\n"
          ],
          "name": "stdout"
        }
      ]
    }
  ]
}